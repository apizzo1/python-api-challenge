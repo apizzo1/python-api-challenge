{
 "cells": [
  {
   "cell_type": "markdown",
   "metadata": {},
   "source": [
    "# WeatherPy\n",
    "----\n",
    "\n",
    "#### Note\n",
    "* Instructions have been included for each segment. You do not have to follow them exactly, but they are included to help you think through the steps."
   ]
  },
  {
   "cell_type": "code",
   "execution_count": 43,
   "metadata": {
    "scrolled": true
   },
   "outputs": [],
   "source": [
    "# Dependencies and Setup\n",
    "import matplotlib.pyplot as plt\n",
    "import pandas as pd\n",
    "import numpy as np\n",
    "import requests\n",
    "import time\n",
    "from scipy.stats import linregress\n",
    "import scipy.stats as sts\n",
    "import random\n",
    "\n",
    "\n",
    "# Import API key\n",
    "from api_keys import weather_api_key\n",
    "\n",
    "# Incorporated citipy to determine city based on latitude and longitude\n",
    "from citipy import citipy\n",
    "\n",
    "# Output File (CSV)\n",
    "output_data_file = \"output_data/cities.csv\"\n",
    "\n",
    "# Range of latitudes and longitudes\n",
    "lat_range = (-90, 90)\n",
    "lng_range = (-180, 180)"
   ]
  },
  {
   "cell_type": "markdown",
   "metadata": {},
   "source": [
    "## Generate Cities List"
   ]
  },
  {
   "cell_type": "code",
   "execution_count": 4,
   "metadata": {},
   "outputs": [
    {
     "data": {
      "text/plain": [
       "597"
      ]
     },
     "execution_count": 4,
     "metadata": {},
     "output_type": "execute_result"
    }
   ],
   "source": [
    "# List for holding lat_lngs and cities\n",
    "lat_lngs = []\n",
    "cities = []\n",
    "\n",
    "np.random.seed(42)\n",
    "# Create a set of random lat and lng combinations\n",
    "lats = np.random.uniform(lat_range[0], lat_range[1], size=1500)\n",
    "lngs = np.random.uniform(lng_range[0], lng_range[1], size=1500)\n",
    "lat_lngs = zip(lats, lngs)\n",
    "\n",
    "# Identify nearest city for each lat, lng combination\n",
    "for lat_lng in lat_lngs:\n",
    "    city = citipy.nearest_city(lat_lng[0], lat_lng[1]).city_name\n",
    "    \n",
    "    # If the city is unique, then add it to a our cities list\n",
    "    if city not in cities:\n",
    "        cities.append(city)\n",
    "\n",
    "# # Print the city count to confirm sufficient count\n",
    "len(cities)\n"
   ]
  },
  {
   "cell_type": "markdown",
   "metadata": {},
   "source": [
    "### Perform API Calls\n",
    "* Perform a weather check on each city using a series of successive API calls.\n",
    "* Include a print log of each city as it'sbeing processed (with the city number and city name).\n"
   ]
  },
  {
   "cell_type": "code",
   "execution_count": 5,
   "metadata": {},
   "outputs": [
    {
     "name": "stdout",
     "output_type": "stream",
     "text": [
      "\n",
      "Beginning Data Retrieval     \n",
      "-----------------------------\n",
      "\n",
      "Processing Record 1 of 597 | henties bay\n",
      "illoqqortoormiut not found. Skipping...\n",
      "Processing Record 2 of 597 | bethel\n",
      "Processing Record 3 of 597 | saint-francois\n",
      "Processing Record 4 of 597 | ushuaia\n",
      "Processing Record 5 of 597 | mar del plata\n",
      "Processing Record 6 of 597 | kruisfontein\n",
      "Processing Record 7 of 597 | bronnoysund\n",
      "tawkar not found. Skipping...\n",
      "Processing Record 8 of 597 | yumen\n",
      "Processing Record 9 of 597 | albany\n",
      "Processing Record 10 of 597 | dikson\n",
      "Processing Record 11 of 597 | ossora\n",
      "Processing Record 12 of 597 | vaini\n",
      "Processing Record 13 of 597 | castro\n",
      "taolanaro not found. Skipping...\n",
      "Processing Record 14 of 597 | vanimo\n",
      "Processing Record 15 of 597 | san cristobal\n",
      "Processing Record 16 of 597 | ulladulla\n",
      "Processing Record 17 of 597 | ewa beach\n",
      "Processing Record 18 of 597 | bluff\n",
      "Processing Record 19 of 597 | maldonado\n",
      "Processing Record 20 of 597 | mataura\n",
      "Processing Record 21 of 597 | jamestown\n",
      "Processing Record 22 of 597 | geraldton\n",
      "Processing Record 23 of 597 | punta arenas\n",
      "Processing Record 24 of 597 | mitu\n",
      "Processing Record 25 of 597 | da nang\n",
      "Processing Record 26 of 597 | bredasdorp\n",
      "higuey not found. Skipping...\n",
      "Processing Record 27 of 597 | port alfred\n",
      "Processing Record 28 of 597 | busselton\n",
      "Processing Record 29 of 597 | qaanaaq\n",
      "Processing Record 30 of 597 | sitka\n",
      "Processing Record 31 of 597 | rikitea\n",
      "Processing Record 32 of 597 | yuma\n",
      "Processing Record 33 of 597 | luanda\n",
      "Processing Record 34 of 597 | saint-philippe\n",
      "Processing Record 35 of 597 | atuona\n",
      "Processing Record 36 of 597 | te anau\n",
      "Processing Record 37 of 597 | marrakesh\n",
      "Processing Record 38 of 597 | mbaiki\n",
      "Processing Record 39 of 597 | makakilo city\n",
      "Processing Record 40 of 597 | east london\n",
      "Processing Record 41 of 597 | cherskiy\n",
      "Processing Record 42 of 597 | lyman\n",
      "Processing Record 43 of 597 | saskylakh\n",
      "nizhneyansk not found. Skipping...\n",
      "huajuapan not found. Skipping...\n",
      "Processing Record 44 of 597 | yellowknife\n",
      "Processing Record 45 of 597 | chuy\n",
      "Processing Record 46 of 597 | new norfolk\n",
      "Processing Record 47 of 597 | broken hill\n",
      "Processing Record 48 of 597 | ribas do rio pardo\n",
      "Processing Record 49 of 597 | ancud\n",
      "Processing Record 50 of 597 | vanavara\n",
      "Processing Record 51 of 597 | coquimbo\n",
      "Processing Record 52 of 597 | sao filipe\n",
      "Processing Record 53 of 597 | kodiak\n",
      "Processing Record 54 of 597 | yurkivka\n",
      "chagda not found. Skipping...\n",
      "Processing Record 55 of 597 | guymon\n",
      "Processing Record 56 of 597 | inhambane\n",
      "Processing Record 57 of 597 | thompson\n",
      "Processing Record 58 of 597 | ponta do sol\n",
      "Processing Record 59 of 597 | richards bay\n",
      "Processing Record 60 of 597 | hermanus\n",
      "Processing Record 61 of 597 | russell\n",
      "Processing Record 62 of 597 | angren\n",
      "Processing Record 63 of 597 | hithadhoo\n",
      "Processing Record 64 of 597 | nikolskoye\n",
      "Processing Record 65 of 597 | port hardy\n",
      "Processing Record 66 of 597 | hilo\n",
      "Processing Record 67 of 597 | shar\n",
      "Processing Record 68 of 597 | goma\n",
      "Processing Record 69 of 597 | pizarro\n",
      "Processing Record 70 of 597 | faanui\n",
      "Processing Record 71 of 597 | hobart\n",
      "Processing Record 72 of 597 | road town\n",
      "Processing Record 73 of 597 | lebu\n",
      "Processing Record 74 of 597 | amapa\n",
      "Processing Record 75 of 597 | barrow\n",
      "Processing Record 76 of 597 | cape town\n",
      "Processing Record 77 of 597 | darhan\n",
      "Processing Record 78 of 597 | victor harbor\n",
      "barentsburg not found. Skipping...\n",
      "Processing Record 79 of 597 | havre-saint-pierre\n",
      "Processing Record 80 of 597 | the valley\n",
      "Processing Record 81 of 597 | verkhnyaya inta\n",
      "Processing Record 82 of 597 | beringovskiy\n",
      "Processing Record 83 of 597 | skjervoy\n",
      "Processing Record 84 of 597 | kalmunai\n",
      "Processing Record 85 of 597 | westport\n",
      "Processing Record 86 of 597 | oudtshoorn\n",
      "Processing Record 87 of 597 | grand gaube\n",
      "Processing Record 88 of 597 | la ronge\n",
      "Processing Record 89 of 597 | terrak\n",
      "Processing Record 90 of 597 | bonthe\n",
      "Processing Record 91 of 597 | bengkulu\n",
      "Processing Record 92 of 597 | necochea\n",
      "Processing Record 93 of 597 | chokurdakh\n",
      "Processing Record 94 of 597 | itarema\n",
      "Processing Record 95 of 597 | pacifica\n",
      "Processing Record 96 of 597 | isangel\n",
      "Processing Record 97 of 597 | esperance\n",
      "Processing Record 98 of 597 | port-gentil\n",
      "tsihombe not found. Skipping...\n",
      "Processing Record 99 of 597 | lompoc\n",
      "Processing Record 100 of 597 | bontang\n",
      "Processing Record 101 of 597 | mahebourg\n",
      "Processing Record 102 of 597 | lavrentiya\n",
      "Processing Record 103 of 597 | coihaique\n",
      "Processing Record 104 of 597 | breves\n",
      "Processing Record 105 of 597 | tuatapere\n",
      "Processing Record 106 of 597 | ajdabiya\n",
      "Processing Record 107 of 597 | saint-jean-port-joli\n",
      "Processing Record 108 of 597 | vila franca do campo\n",
      "Processing Record 109 of 597 | gat\n",
      "Processing Record 110 of 597 | katsuura\n",
      "Processing Record 111 of 597 | konongo\n",
      "Processing Record 112 of 597 | kaitangata\n",
      "Processing Record 113 of 597 | tommot\n",
      "Processing Record 114 of 597 | wanning\n",
      "Processing Record 115 of 597 | ribeira grande\n",
      "Processing Record 116 of 597 | sorong\n",
      "Processing Record 117 of 597 | rongcheng\n",
      "Processing Record 118 of 597 | kahului\n",
      "Processing Record 119 of 597 | caravelas\n",
      "Processing Record 120 of 597 | norman wells\n",
      "Processing Record 121 of 597 | sao luiz gonzaga\n",
      "belushya guba not found. Skipping...\n",
      "Processing Record 122 of 597 | udachnyy\n",
      "Processing Record 123 of 597 | naze\n",
      "Processing Record 124 of 597 | ola\n",
      "Processing Record 125 of 597 | ferkessedougou\n",
      "Processing Record 126 of 597 | yabelo\n",
      "Processing Record 127 of 597 | roald\n",
      "Processing Record 128 of 597 | tasiilaq\n",
      "Processing Record 129 of 597 | laguna\n",
      "Processing Record 130 of 597 | avera\n",
      "Processing Record 131 of 597 | kapaa\n",
      "Processing Record 132 of 597 | tuktoyaktuk\n",
      "Processing Record 133 of 597 | bilibino\n",
      "Processing Record 134 of 597 | krapkowice\n",
      "Processing Record 135 of 597 | butaritari\n",
      "Processing Record 136 of 597 | santa maria\n",
      "acuna not found. Skipping...\n",
      "Processing Record 137 of 597 | cabo san lucas\n",
      "Processing Record 138 of 597 | panzhihua\n",
      "Processing Record 139 of 597 | waipawa\n",
      "Processing Record 140 of 597 | avarua\n",
      "zhanatas not found. Skipping...\n",
      "Processing Record 141 of 597 | souillac\n",
      "Processing Record 142 of 597 | mecca\n",
      "Processing Record 143 of 597 | hauterive\n",
      "barawe not found. Skipping...\n",
      "Processing Record 144 of 597 | goure\n",
      "Processing Record 145 of 597 | touros\n",
      "Processing Record 146 of 597 | oga\n",
      "Processing Record 147 of 597 | codrington\n",
      "Processing Record 148 of 597 | khatanga\n",
      "Processing Record 149 of 597 | klaksvik\n",
      "falealupo not found. Skipping...\n",
      "Processing Record 150 of 597 | puerto ayora\n",
      "Processing Record 151 of 597 | provideniya\n",
      "Processing Record 152 of 597 | phan thiet\n",
      "Processing Record 153 of 597 | pevek\n",
      "tawnat not found. Skipping...\n",
      "Processing Record 154 of 597 | nouadhibou\n",
      "Processing Record 155 of 597 | tiksi\n",
      "Processing Record 156 of 597 | jacqueville\n",
      "Processing Record 157 of 597 | halifax\n",
      "Processing Record 158 of 597 | korla\n",
      "Processing Record 159 of 597 | lagos\n",
      "Processing Record 160 of 597 | ilhabela\n",
      "Processing Record 161 of 597 | vidim\n",
      "khonuu not found. Skipping...\n",
      "Processing Record 162 of 597 | kluang\n",
      "Processing Record 163 of 597 | sao gabriel da cachoeira\n",
      "Processing Record 164 of 597 | sergeyevka\n",
      "Processing Record 165 of 597 | los llanos de aridane\n",
      "Processing Record 166 of 597 | paris\n",
      "Processing Record 167 of 597 | urusha\n",
      "Processing Record 168 of 597 | nome\n",
      "Processing Record 169 of 597 | salalah\n",
      "Processing Record 170 of 597 | victoria\n",
      "Processing Record 171 of 597 | ginir\n",
      "Processing Record 172 of 597 | abalak\n",
      "Processing Record 173 of 597 | varhaug\n",
      "Processing Record 174 of 597 | bambous virieux\n",
      "karkaralinsk not found. Skipping...\n",
      "Processing Record 175 of 597 | iracoubo\n",
      "Processing Record 176 of 597 | cockburn town\n",
      "Processing Record 177 of 597 | saint-pierre\n",
      "Processing Record 178 of 597 | hinton\n",
      "mys shmidta not found. Skipping...\n",
      "Processing Record 179 of 597 | sterling\n",
      "Processing Record 180 of 597 | severo-kurilsk\n",
      "Processing Record 181 of 597 | camana\n",
      "Processing Record 182 of 597 | ixtapa\n",
      "Processing Record 183 of 597 | fortuna\n",
      "Processing Record 184 of 597 | sakakah\n",
      "Processing Record 185 of 597 | follonica\n",
      "Processing Record 186 of 597 | srandakan\n",
      "Processing Record 187 of 597 | vao\n",
      "Processing Record 188 of 597 | osypenko\n",
      "Processing Record 189 of 597 | mayo\n",
      "Processing Record 190 of 597 | saint george\n",
      "Processing Record 191 of 597 | kokopo\n"
     ]
    },
    {
     "name": "stdout",
     "output_type": "stream",
     "text": [
      "Processing Record 192 of 597 | carutapera\n",
      "Processing Record 193 of 597 | georgetown\n",
      "Processing Record 194 of 597 | cidreira\n",
      "Processing Record 195 of 597 | pemba\n",
      "Processing Record 196 of 597 | poum\n",
      "Processing Record 197 of 597 | paraiso\n",
      "Processing Record 198 of 597 | mount isa\n",
      "Processing Record 199 of 597 | abu dhabi\n",
      "Processing Record 200 of 597 | valle del guamuez\n",
      "Processing Record 201 of 597 | mirnyy\n",
      "Processing Record 202 of 597 | houma\n",
      "thilogne not found. Skipping...\n",
      "Processing Record 203 of 597 | kattivakkam\n",
      "palabuhanratu not found. Skipping...\n",
      "Processing Record 204 of 597 | sharjah\n",
      "Processing Record 205 of 597 | moundou\n",
      "Processing Record 206 of 597 | komsomolskiy\n",
      "Processing Record 207 of 597 | huilong\n",
      "Processing Record 208 of 597 | saldanha\n",
      "Processing Record 209 of 597 | suoyarvi\n",
      "Processing Record 210 of 597 | chapais\n",
      "Processing Record 211 of 597 | plettenberg bay\n",
      "Processing Record 212 of 597 | tottori\n",
      "Processing Record 213 of 597 | abu samrah\n",
      "Processing Record 214 of 597 | svetlogorsk\n",
      "Processing Record 215 of 597 | ashland\n",
      "Processing Record 216 of 597 | dingle\n",
      "Processing Record 217 of 597 | yining\n",
      "Processing Record 218 of 597 | belmonte\n",
      "Processing Record 219 of 597 | carnarvon\n",
      "Processing Record 220 of 597 | gravelbourg\n",
      "Processing Record 221 of 597 | warmbad\n",
      "Processing Record 222 of 597 | lukovetskiy\n",
      "Processing Record 223 of 597 | torbay\n",
      "Processing Record 224 of 597 | hovd\n",
      "Processing Record 225 of 597 | meulaboh\n",
      "Processing Record 226 of 597 | pouebo\n",
      "Processing Record 227 of 597 | upernavik\n",
      "Processing Record 228 of 597 | los andes\n",
      "Processing Record 229 of 597 | leningradskiy\n",
      "Processing Record 230 of 597 | sinnamary\n",
      "Processing Record 231 of 597 | lagoa\n",
      "Processing Record 232 of 597 | makinsk\n",
      "Processing Record 233 of 597 | gurupa\n",
      "Processing Record 234 of 597 | chinsali\n",
      "Processing Record 235 of 597 | port elizabeth\n",
      "Processing Record 236 of 597 | ineu\n",
      "Processing Record 237 of 597 | faya\n",
      "yanan not found. Skipping...\n",
      "Processing Record 238 of 597 | chara\n",
      "Processing Record 239 of 597 | la union\n",
      "Processing Record 240 of 597 | narsaq\n",
      "grand river south east not found. Skipping...\n",
      "Processing Record 241 of 597 | shestakovo\n",
      "Processing Record 242 of 597 | newport\n",
      "doctor pedro p. pena not found. Skipping...\n",
      "Processing Record 243 of 597 | tecoanapa\n",
      "Processing Record 244 of 597 | lichinga\n",
      "karaul not found. Skipping...\n",
      "Processing Record 245 of 597 | namatanai\n",
      "Processing Record 246 of 597 | cabedelo\n",
      "Processing Record 247 of 597 | tongliao\n",
      "Processing Record 248 of 597 | cayenne\n",
      "Processing Record 249 of 597 | longyearbyen\n",
      "Processing Record 250 of 597 | giyani\n",
      "Processing Record 251 of 597 | qasigiannguit\n",
      "Processing Record 252 of 597 | rawson\n",
      "Processing Record 253 of 597 | sorland\n",
      "Processing Record 254 of 597 | aguazul\n",
      "tabialan not found. Skipping...\n",
      "Processing Record 255 of 597 | constitucion\n",
      "Processing Record 256 of 597 | tongchuan\n",
      "Processing Record 257 of 597 | taoudenni\n",
      "Processing Record 258 of 597 | guerrero negro\n",
      "Processing Record 259 of 597 | margate\n",
      "Processing Record 260 of 597 | padang\n",
      "Processing Record 261 of 597 | manchester\n",
      "Processing Record 262 of 597 | santa cruz\n",
      "Processing Record 263 of 597 | griffith\n",
      "Processing Record 264 of 597 | sioux lookout\n",
      "Processing Record 265 of 597 | martinez\n",
      "Processing Record 266 of 597 | kodinsk\n",
      "Processing Record 267 of 597 | avila\n",
      "Processing Record 268 of 597 | dourados\n",
      "Processing Record 269 of 597 | okha\n",
      "Processing Record 270 of 597 | ghanzi\n",
      "Processing Record 271 of 597 | olafsvik\n",
      "Processing Record 272 of 597 | talara\n",
      "Processing Record 273 of 597 | riwaka\n",
      "Processing Record 274 of 597 | kozhva\n",
      "Processing Record 275 of 597 | meadow lake\n",
      "Processing Record 276 of 597 | lenina\n",
      "Processing Record 277 of 597 | haines junction\n",
      "Processing Record 278 of 597 | itoman\n",
      "Processing Record 279 of 597 | talwandi bhai\n",
      "Processing Record 280 of 597 | nola\n",
      "Processing Record 281 of 597 | zhigansk\n",
      "Processing Record 282 of 597 | karaton\n",
      "Processing Record 283 of 597 | bilma\n",
      "Processing Record 284 of 597 | kosum phisai\n",
      "Processing Record 285 of 597 | pimentel\n",
      "Processing Record 286 of 597 | presidencia roque saenz pena\n",
      "Processing Record 287 of 597 | leverkusen\n",
      "Processing Record 288 of 597 | khandyga\n",
      "utiroa not found. Skipping...\n",
      "saleaula not found. Skipping...\n",
      "Processing Record 289 of 597 | dubbo\n",
      "Processing Record 290 of 597 | marzuq\n",
      "Processing Record 291 of 597 | luderitz\n",
      "Processing Record 292 of 597 | clyde river\n",
      "Processing Record 293 of 597 | metro\n",
      "Processing Record 294 of 597 | marsa matruh\n",
      "Processing Record 295 of 597 | pauini\n",
      "Processing Record 296 of 597 | mount gambier\n",
      "Processing Record 297 of 597 | emerald\n",
      "Processing Record 298 of 597 | muisne\n",
      "Processing Record 299 of 597 | shellbrook\n",
      "Processing Record 300 of 597 | usinsk\n",
      "Processing Record 301 of 597 | terney\n",
      "Processing Record 302 of 597 | ambilobe\n",
      "Processing Record 303 of 597 | redmond\n",
      "Processing Record 304 of 597 | arraial do cabo\n",
      "Processing Record 305 of 597 | west sacramento\n",
      "Processing Record 306 of 597 | lisala\n",
      "Processing Record 307 of 597 | bali\n",
      "Processing Record 308 of 597 | merauke\n",
      "Processing Record 309 of 597 | yulara\n",
      "Processing Record 310 of 597 | la rioja\n",
      "Processing Record 311 of 597 | ndioum\n",
      "Processing Record 312 of 597 | worcester\n",
      "Processing Record 313 of 597 | kushtagi\n",
      "Processing Record 314 of 597 | chifeng\n",
      "Processing Record 315 of 597 | san alberto\n",
      "Processing Record 316 of 597 | adeje\n",
      "Processing Record 317 of 597 | port blair\n",
      "Processing Record 318 of 597 | saint-joseph\n",
      "Processing Record 319 of 597 | bahia blanca\n",
      "Processing Record 320 of 597 | pundaguitan\n",
      "Processing Record 321 of 597 | toamasina\n",
      "Processing Record 322 of 597 | iqaluit\n",
      "Processing Record 323 of 597 | hamilton\n",
      "Processing Record 324 of 597 | kavieng\n",
      "meyungs not found. Skipping...\n",
      "Processing Record 325 of 597 | bulgan\n",
      "Processing Record 326 of 597 | cairns\n",
      "Processing Record 327 of 597 | san policarpo\n",
      "Processing Record 328 of 597 | urbano santos\n",
      "Processing Record 329 of 597 | sao joao da barra\n",
      "Processing Record 330 of 597 | zeya\n",
      "Processing Record 331 of 597 | hasaki\n",
      "Processing Record 332 of 597 | ulaangom\n",
      "sataua not found. Skipping...\n",
      "Processing Record 333 of 597 | luganville\n",
      "Processing Record 334 of 597 | austin\n",
      "sorvag not found. Skipping...\n",
      "Processing Record 335 of 597 | khotynets\n",
      "Processing Record 336 of 597 | sarangani\n",
      "Processing Record 337 of 597 | kirovsk\n",
      "Processing Record 338 of 597 | athabasca\n",
      "Processing Record 339 of 597 | pisco\n",
      "Processing Record 340 of 597 | cikupa\n",
      "Processing Record 341 of 597 | sfantu gheorghe\n",
      "rungata not found. Skipping...\n",
      "Processing Record 342 of 597 | port lincoln\n",
      "cagayan de tawi-tawi not found. Skipping...\n",
      "tumannyy not found. Skipping...\n",
      "Processing Record 343 of 597 | sur\n",
      "Processing Record 344 of 597 | northam\n",
      "Processing Record 345 of 597 | slonim\n",
      "Processing Record 346 of 597 | arlit\n",
      "Processing Record 347 of 597 | vestmannaeyjar\n",
      "Processing Record 348 of 597 | burnie\n",
      "Processing Record 349 of 597 | aden\n",
      "Processing Record 350 of 597 | bereznehuvate\n",
      "Processing Record 351 of 597 | staryy nadym\n",
      "Processing Record 352 of 597 | nanortalik\n",
      "Processing Record 353 of 597 | saint-denis\n",
      "ust-kamchatsk not found. Skipping...\n",
      "Processing Record 354 of 597 | calvia\n",
      "Processing Record 355 of 597 | pushkino\n",
      "Processing Record 356 of 597 | corinth\n",
      "Processing Record 357 of 597 | san jose\n",
      "Processing Record 358 of 597 | bull savanna\n",
      "Processing Record 359 of 597 | egvekinot\n",
      "Processing Record 360 of 597 | dogondoutchi\n",
      "Processing Record 361 of 597 | jeremie\n",
      "Processing Record 362 of 597 | samarai\n",
      "Processing Record 363 of 597 | ostrovnoy\n",
      "eldikan not found. Skipping...\n",
      "Processing Record 364 of 597 | anadyr\n",
      "Processing Record 365 of 597 | iralaya\n",
      "Processing Record 366 of 597 | ekhabi\n",
      "Processing Record 367 of 597 | patacamaya\n",
      "Processing Record 368 of 597 | kudat\n",
      "Processing Record 369 of 597 | derbent\n",
      "samusu not found. Skipping...\n",
      "Processing Record 370 of 597 | santana\n",
      "Processing Record 371 of 597 | iguape\n",
      "Processing Record 372 of 597 | ahuimanu\n",
      "Processing Record 373 of 597 | mayuge\n",
      "sentyabrskiy not found. Skipping...\n",
      "Processing Record 374 of 597 | damaturu\n",
      "Processing Record 375 of 597 | olinda\n",
      "Processing Record 376 of 597 | el calvario\n",
      "Processing Record 377 of 597 | sinazongwe\n",
      "Processing Record 378 of 597 | sisimiut\n",
      "Processing Record 379 of 597 | khipro\n"
     ]
    },
    {
     "name": "stdout",
     "output_type": "stream",
     "text": [
      "Processing Record 380 of 597 | maragogi\n",
      "Processing Record 381 of 597 | nantucket\n",
      "Processing Record 382 of 597 | yibin\n",
      "Processing Record 383 of 597 | kaseda\n",
      "Processing Record 384 of 597 | sept-iles\n",
      "Processing Record 385 of 597 | hay river\n",
      "Processing Record 386 of 597 | grindavik\n",
      "Processing Record 387 of 597 | shimoda\n",
      "Processing Record 388 of 597 | rincon\n",
      "Processing Record 389 of 597 | qaqortoq\n",
      "Processing Record 390 of 597 | veraval\n",
      "satitoa not found. Skipping...\n",
      "Processing Record 391 of 597 | beterou\n",
      "Processing Record 392 of 597 | lata\n",
      "Processing Record 393 of 597 | talnakh\n",
      "Processing Record 394 of 597 | chincha alta\n",
      "Processing Record 395 of 597 | portland\n",
      "Processing Record 396 of 597 | suntar\n",
      "Processing Record 397 of 597 | toro\n",
      "fianga not found. Skipping...\n",
      "Processing Record 398 of 597 | lakhimpur\n",
      "Processing Record 399 of 597 | khani\n",
      "Processing Record 400 of 597 | george town\n",
      "Processing Record 401 of 597 | kabwe\n",
      "Processing Record 402 of 597 | goderich\n",
      "Processing Record 403 of 597 | airai\n",
      "Processing Record 404 of 597 | gweta\n",
      "Processing Record 405 of 597 | kangaba\n",
      "Processing Record 406 of 597 | kinshasa\n",
      "Processing Record 407 of 597 | seguin\n",
      "Processing Record 408 of 597 | nemuro\n",
      "Processing Record 409 of 597 | dong hoi\n",
      "Processing Record 410 of 597 | knyaze-volkonskoye\n",
      "Processing Record 411 of 597 | peniche\n",
      "temaraia not found. Skipping...\n",
      "sidi qasim not found. Skipping...\n",
      "nguiu not found. Skipping...\n",
      "Processing Record 412 of 597 | matagami\n",
      "Processing Record 413 of 597 | south valley\n",
      "Processing Record 414 of 597 | mehamn\n",
      "Processing Record 415 of 597 | sao jose da coroa grande\n",
      "Processing Record 416 of 597 | sabang\n",
      "Processing Record 417 of 597 | rovaniemi\n",
      "Processing Record 418 of 597 | fukue\n",
      "Processing Record 419 of 597 | naqadeh\n",
      "amderma not found. Skipping...\n",
      "andarab not found. Skipping...\n",
      "Processing Record 420 of 597 | ayabaca\n",
      "kamenskoye not found. Skipping...\n",
      "Processing Record 421 of 597 | catuday\n",
      "Processing Record 422 of 597 | jiaonan\n",
      "Processing Record 423 of 597 | bandarbeyla\n",
      "Processing Record 424 of 597 | toora-khem\n",
      "Processing Record 425 of 597 | college\n",
      "Processing Record 426 of 597 | klyuchi\n",
      "Processing Record 427 of 597 | noumea\n",
      "Processing Record 428 of 597 | furtwangen\n",
      "Processing Record 429 of 597 | punta de bombon\n",
      "Processing Record 430 of 597 | tessalit\n",
      "Processing Record 431 of 597 | aykhal\n",
      "Processing Record 432 of 597 | conde\n",
      "Processing Record 433 of 597 | cohoes\n",
      "Processing Record 434 of 597 | sambava\n",
      "Processing Record 435 of 597 | sabha\n",
      "Processing Record 436 of 597 | dalvik\n",
      "Processing Record 437 of 597 | berlevag\n",
      "Processing Record 438 of 597 | micheweni\n",
      "Processing Record 439 of 597 | hongjiang\n",
      "Processing Record 440 of 597 | luba\n",
      "Processing Record 441 of 597 | sudbury\n",
      "Processing Record 442 of 597 | gilgit\n",
      "Processing Record 443 of 597 | arroyo\n",
      "Processing Record 444 of 597 | arman\n",
      "Processing Record 445 of 597 | quatre cocos\n",
      "Processing Record 446 of 597 | ucar\n",
      "Processing Record 447 of 597 | chamba\n",
      "Processing Record 448 of 597 | buala\n",
      "Processing Record 449 of 597 | ratnagiri\n",
      "Processing Record 450 of 597 | yaan\n",
      "Processing Record 451 of 597 | bereda\n",
      "Processing Record 452 of 597 | adrar\n",
      "Processing Record 453 of 597 | hofn\n",
      "Processing Record 454 of 597 | trinidad\n",
      "Processing Record 455 of 597 | kyaukse\n",
      "Processing Record 456 of 597 | stornoway\n",
      "dzhusaly not found. Skipping...\n",
      "Processing Record 457 of 597 | juneau\n",
      "Processing Record 458 of 597 | general roca\n",
      "Processing Record 459 of 597 | talen\n",
      "Processing Record 460 of 597 | shingu\n",
      "Processing Record 461 of 597 | mutata\n",
      "Processing Record 462 of 597 | bonavista\n",
      "Processing Record 463 of 597 | ikare\n",
      "Processing Record 464 of 597 | ilulissat\n",
      "Processing Record 465 of 597 | wad madani\n",
      "Processing Record 466 of 597 | atar\n",
      "Processing Record 467 of 597 | sistranda\n",
      "Processing Record 468 of 597 | frutigen\n",
      "ondorhaan not found. Skipping...\n",
      "Processing Record 469 of 597 | labuhan\n",
      "Processing Record 470 of 597 | soyo\n",
      "Processing Record 471 of 597 | hirara\n",
      "Processing Record 472 of 597 | itacare\n",
      "Processing Record 473 of 597 | kasangulu\n",
      "Processing Record 474 of 597 | carberry\n",
      "Processing Record 475 of 597 | havre\n",
      "Processing Record 476 of 597 | zavetnoye\n",
      "Processing Record 477 of 597 | simao\n",
      "Processing Record 478 of 597 | huayucachi\n",
      "Processing Record 479 of 597 | opuwo\n",
      "Processing Record 480 of 597 | kidal\n",
      "attawapiskat not found. Skipping...\n",
      "Processing Record 481 of 597 | khilok\n",
      "Processing Record 482 of 597 | mushie\n",
      "Processing Record 483 of 597 | yatou\n",
      "Processing Record 484 of 597 | kutum\n",
      "Processing Record 485 of 597 | cullman\n",
      "Processing Record 486 of 597 | cedar city\n",
      "tabarqah not found. Skipping...\n",
      "Processing Record 487 of 597 | hami\n",
      "Processing Record 488 of 597 | prince george\n",
      "Processing Record 489 of 597 | severnoye\n",
      "fort saint john not found. Skipping...\n",
      "Processing Record 490 of 597 | kaniama\n",
      "Processing Record 491 of 597 | myitkyina\n",
      "Processing Record 492 of 597 | winneba\n",
      "Processing Record 493 of 597 | leshukonskoye\n",
      "Processing Record 494 of 597 | boundiali\n",
      "Processing Record 495 of 597 | buzmeyin\n",
      "Processing Record 496 of 597 | dunedin\n",
      "Processing Record 497 of 597 | zyryanka\n",
      "Processing Record 498 of 597 | dobric\n",
      "Processing Record 499 of 597 | sao miguel do araguaia\n",
      "Processing Record 500 of 597 | puerto madero\n",
      "Processing Record 501 of 597 | raudeberg\n",
      "Processing Record 502 of 597 | aswan\n",
      "Processing Record 503 of 597 | mahon\n",
      "Processing Record 504 of 597 | ust-nera\n",
      "Processing Record 505 of 597 | vestmanna\n",
      "Processing Record 506 of 597 | acapulco\n",
      "Processing Record 507 of 597 | macia\n",
      "Processing Record 508 of 597 | kununurra\n",
      "Processing Record 509 of 597 | sawtell\n",
      "Processing Record 510 of 597 | creil\n",
      "Processing Record 511 of 597 | ruteng\n",
      "Processing Record 512 of 597 | eyl\n",
      "Processing Record 513 of 597 | ust-maya\n",
      "Processing Record 514 of 597 | lobito\n",
      "warqla not found. Skipping...\n",
      "Processing Record 515 of 597 | oranjestad\n",
      "Processing Record 516 of 597 | puerto escondido\n",
      "Processing Record 517 of 597 | bell ville\n",
      "sunamganj not found. Skipping...\n",
      "Processing Record 518 of 597 | laela\n",
      "Processing Record 519 of 597 | waddan\n",
      "Processing Record 520 of 597 | kumluca\n",
      "Processing Record 521 of 597 | havelock\n",
      "Processing Record 522 of 597 | tazmalt\n",
      "Processing Record 523 of 597 | aras\n",
      "Processing Record 524 of 597 | samarinda\n",
      "Processing Record 525 of 597 | dhari\n",
      "Processing Record 526 of 597 | novyy urengoy\n",
      "Processing Record 527 of 597 | koundara\n",
      "Processing Record 528 of 597 | yar-sale\n",
      "Processing Record 529 of 597 | joshimath\n",
      "Processing Record 530 of 597 | kushikino\n",
      "Processing Record 531 of 597 | dayong\n",
      "Processing Record 532 of 597 | senanga\n",
      "Processing Record 533 of 597 | southampton\n",
      "Processing Record 534 of 597 | altamont\n",
      "Processing Record 535 of 597 | imbituba\n",
      "Processing Record 536 of 597 | yerofey pavlovich\n",
      "Processing Record 537 of 597 | russkaya polyana\n",
      "Processing Record 538 of 597 | sola\n",
      "Processing Record 539 of 597 | dhidhdhoo\n",
      "Processing Record 540 of 597 | vredendal\n",
      "aflu not found. Skipping...\n",
      "Processing Record 541 of 597 | kushima\n",
      "Processing Record 542 of 597 | eirunepe\n",
      "Processing Record 543 of 597 | tocopilla\n",
      "Processing Record 544 of 597 | verkhoyansk\n",
      "\n",
      "-----------------------------\n",
      "Data Retrieval Complete      \n",
      "-----------------------------\n",
      "\n"
     ]
    }
   ],
   "source": [
    "base_url = \"http://api.openweathermap.org/data/2.5/weather?q=\"\n",
    "\n",
    "city_name = []\n",
    "lat = []\n",
    "lng = []\n",
    "temp_max = []\n",
    "humidity = []\n",
    "clouds = []\n",
    "wind_spd = []\n",
    "country = []\n",
    "date = []\n",
    "counter = 1\n",
    "\n",
    "test = [cities[0], cities[1], cities[2],cities[3],cities[4]]\n",
    "\n",
    "print(\"\"\"\n",
    "Beginning Data Retrieval     \n",
    "-----------------------------\n",
    "\"\"\")\n",
    "for city in cities:\n",
    "    try:\n",
    "        response = requests.get(base_url+city+\"&appid=\"+weather_api_key+\"&units=imperial\").json()\n",
    "        city_name.append(response['name'])\n",
    "        lat.append(response['coord']['lat'])\n",
    "        lng.append(response['coord']['lon'])\n",
    "        temp_max.append(response['main']['temp_max'])\n",
    "        humidity.append(response[\"main\"][\"humidity\"])\n",
    "        clouds.append(response[\"clouds\"][\"all\"])\n",
    "        wind_spd.append(response[\"wind\"][\"speed\"])\n",
    "        country.append(response['sys']['country'])\n",
    "        date.append(response['dt'])\n",
    "\n",
    "        print(f\"Processing Record {counter} of {len(cities)} | {city}\")\n",
    "        counter = counter + 1\n",
    "  \n",
    "    except KeyError:\n",
    "        print(f\"{city} not found. Skipping...\")\n",
    "        pass \n",
    "\n",
    "print(\"\"\"\n",
    "-----------------------------\n",
    "Data Retrieval Complete      \n",
    "-----------------------------\n",
    "\"\"\")\n",
    "# #Testing\n",
    "# response = requests.get(base_url+cities[2]+\"&appid=\"+weather_api_key+\"&units=imperial\").json()  \n",
    "# lat.append(response['coord']['lat'])\n",
    "# temp_f.append(response['main']['temp'])\n",
    "# humidity = response[\"main\"][\"humidity\"]\n",
    "# clouds = response[\"clouds\"][\"all\"]\n",
    "# wind_spd = response[\"wind\"][\"speed\"]\n",
    "\n"
   ]
  },
  {
   "cell_type": "markdown",
   "metadata": {},
   "source": [
    "### Convert Raw Data to DataFrame\n",
    "* Export the city data into a .csv.\n",
    "* Display the DataFrame"
   ]
  },
  {
   "cell_type": "code",
   "execution_count": 6,
   "metadata": {},
   "outputs": [
    {
     "name": "stdout",
     "output_type": "stream",
     "text": [
      "544\n",
      "544\n",
      "544\n",
      "544\n",
      "544\n",
      "544\n",
      "544\n",
      "544\n",
      "544\n"
     ]
    }
   ],
   "source": [
    "#ensure all lists are the same length\n",
    "\n",
    "print(len(city_name))\n",
    "print(len(lat))\n",
    "print(len(lng))\n",
    "print(len(temp_max))\n",
    "print(len(humidity))\n",
    "print(len(clouds))\n",
    "print(len(wind_spd))\n",
    "print(len(country))\n",
    "print(len(date))\n"
   ]
  },
  {
   "cell_type": "code",
   "execution_count": 8,
   "metadata": {},
   "outputs": [
    {
     "data": {
      "text/html": [
       "<div>\n",
       "<style scoped>\n",
       "    .dataframe tbody tr th:only-of-type {\n",
       "        vertical-align: middle;\n",
       "    }\n",
       "\n",
       "    .dataframe tbody tr th {\n",
       "        vertical-align: top;\n",
       "    }\n",
       "\n",
       "    .dataframe thead th {\n",
       "        text-align: right;\n",
       "    }\n",
       "</style>\n",
       "<table border=\"1\" class=\"dataframe\">\n",
       "  <thead>\n",
       "    <tr style=\"text-align: right;\">\n",
       "      <th></th>\n",
       "      <th>City</th>\n",
       "      <th>Latitude</th>\n",
       "      <th>Longitude</th>\n",
       "      <th>Max_Temp</th>\n",
       "      <th>Humidity</th>\n",
       "      <th>Cloudiness</th>\n",
       "      <th>Wind_Speed</th>\n",
       "      <th>Country</th>\n",
       "      <th>Date</th>\n",
       "    </tr>\n",
       "  </thead>\n",
       "  <tbody>\n",
       "    <tr>\n",
       "      <th>0</th>\n",
       "      <td>Henties Bay</td>\n",
       "      <td>-22.12</td>\n",
       "      <td>14.28</td>\n",
       "      <td>55.83</td>\n",
       "      <td>76</td>\n",
       "      <td>43</td>\n",
       "      <td>3.98</td>\n",
       "      <td>NA</td>\n",
       "      <td>1593394586</td>\n",
       "    </tr>\n",
       "    <tr>\n",
       "      <th>1</th>\n",
       "      <td>Bethel</td>\n",
       "      <td>41.37</td>\n",
       "      <td>-73.41</td>\n",
       "      <td>70.00</td>\n",
       "      <td>94</td>\n",
       "      <td>20</td>\n",
       "      <td>0.72</td>\n",
       "      <td>US</td>\n",
       "      <td>1593394586</td>\n",
       "    </tr>\n",
       "    <tr>\n",
       "      <th>2</th>\n",
       "      <td>Saint-François</td>\n",
       "      <td>46.42</td>\n",
       "      <td>3.91</td>\n",
       "      <td>60.80</td>\n",
       "      <td>82</td>\n",
       "      <td>90</td>\n",
       "      <td>2.24</td>\n",
       "      <td>FR</td>\n",
       "      <td>1593394586</td>\n",
       "    </tr>\n",
       "    <tr>\n",
       "      <th>3</th>\n",
       "      <td>Ushuaia</td>\n",
       "      <td>-54.80</td>\n",
       "      <td>-68.30</td>\n",
       "      <td>35.60</td>\n",
       "      <td>69</td>\n",
       "      <td>40</td>\n",
       "      <td>10.29</td>\n",
       "      <td>AR</td>\n",
       "      <td>1593394436</td>\n",
       "    </tr>\n",
       "    <tr>\n",
       "      <th>4</th>\n",
       "      <td>Mar del Plata</td>\n",
       "      <td>-38.00</td>\n",
       "      <td>-57.56</td>\n",
       "      <td>48.00</td>\n",
       "      <td>93</td>\n",
       "      <td>96</td>\n",
       "      <td>5.53</td>\n",
       "      <td>AR</td>\n",
       "      <td>1593394343</td>\n",
       "    </tr>\n",
       "  </tbody>\n",
       "</table>\n",
       "</div>"
      ],
      "text/plain": [
       "             City  Latitude  Longitude  Max_Temp  Humidity  Cloudiness  \\\n",
       "0     Henties Bay    -22.12      14.28     55.83        76          43   \n",
       "1          Bethel     41.37     -73.41     70.00        94          20   \n",
       "2  Saint-François     46.42       3.91     60.80        82          90   \n",
       "3         Ushuaia    -54.80     -68.30     35.60        69          40   \n",
       "4   Mar del Plata    -38.00     -57.56     48.00        93          96   \n",
       "\n",
       "   Wind_Speed Country        Date  \n",
       "0        3.98      NA  1593394586  \n",
       "1        0.72      US  1593394586  \n",
       "2        2.24      FR  1593394586  \n",
       "3       10.29      AR  1593394436  \n",
       "4        5.53      AR  1593394343  "
      ]
     },
     "execution_count": 8,
     "metadata": {},
     "output_type": "execute_result"
    }
   ],
   "source": [
    "city_data = pd.DataFrame({\n",
    "    'City':city_name,\n",
    "    'Latitude': lat,\n",
    "    'Longitude':lng,\n",
    "    'Max_Temp': temp_max,\n",
    "    'Humidity': humidity,\n",
    "    'Cloudiness':clouds,\n",
    "    'Wind_Speed':wind_spd,\n",
    "    'Country': country,\n",
    "    'Date': date\n",
    "})\n",
    "city_data.head()"
   ]
  },
  {
   "cell_type": "code",
   "execution_count": 35,
   "metadata": {},
   "outputs": [],
   "source": []
  },
  {
   "cell_type": "markdown",
   "metadata": {},
   "source": [
    "## Inspect the data and remove the cities where the humidity > 100%.\n",
    "----\n",
    "Skip this step if there are no cities that have humidity > 100%. "
   ]
  },
  {
   "cell_type": "code",
   "execution_count": 9,
   "metadata": {},
   "outputs": [
    {
     "data": {
      "text/html": [
       "<div>\n",
       "<style scoped>\n",
       "    .dataframe tbody tr th:only-of-type {\n",
       "        vertical-align: middle;\n",
       "    }\n",
       "\n",
       "    .dataframe tbody tr th {\n",
       "        vertical-align: top;\n",
       "    }\n",
       "\n",
       "    .dataframe thead th {\n",
       "        text-align: right;\n",
       "    }\n",
       "</style>\n",
       "<table border=\"1\" class=\"dataframe\">\n",
       "  <thead>\n",
       "    <tr style=\"text-align: right;\">\n",
       "      <th></th>\n",
       "      <th>City</th>\n",
       "      <th>Latitude</th>\n",
       "      <th>Longitude</th>\n",
       "      <th>Max_Temp</th>\n",
       "      <th>Humidity</th>\n",
       "      <th>Cloudiness</th>\n",
       "      <th>Wind_Speed</th>\n",
       "      <th>Country</th>\n",
       "      <th>Date</th>\n",
       "    </tr>\n",
       "  </thead>\n",
       "  <tbody>\n",
       "  </tbody>\n",
       "</table>\n",
       "</div>"
      ],
      "text/plain": [
       "Empty DataFrame\n",
       "Columns: [City, Latitude, Longitude, Max_Temp, Humidity, Cloudiness, Wind_Speed, Country, Date]\n",
       "Index: []"
      ]
     },
     "execution_count": 9,
     "metadata": {},
     "output_type": "execute_result"
    }
   ],
   "source": [
    "#check for cities with humidity >100%\n",
    "humidity_check = city_data.loc[city_data.Humidity>100,:]\n",
    "humidity_check"
   ]
  },
  {
   "cell_type": "code",
   "execution_count": null,
   "metadata": {},
   "outputs": [],
   "source": [
    "#  Get the indices of cities that have humidity over 100%.\n",
    "\n",
    "\n",
    "#*****from previous steps - no cities with humidity greater than 100%**********"
   ]
  },
  {
   "cell_type": "code",
   "execution_count": 10,
   "metadata": {},
   "outputs": [
    {
     "data": {
      "text/html": [
       "<div>\n",
       "<style scoped>\n",
       "    .dataframe tbody tr th:only-of-type {\n",
       "        vertical-align: middle;\n",
       "    }\n",
       "\n",
       "    .dataframe tbody tr th {\n",
       "        vertical-align: top;\n",
       "    }\n",
       "\n",
       "    .dataframe thead th {\n",
       "        text-align: right;\n",
       "    }\n",
       "</style>\n",
       "<table border=\"1\" class=\"dataframe\">\n",
       "  <thead>\n",
       "    <tr style=\"text-align: right;\">\n",
       "      <th></th>\n",
       "      <th>City</th>\n",
       "      <th>Latitude</th>\n",
       "      <th>Longitude</th>\n",
       "      <th>Max_Temp</th>\n",
       "      <th>Humidity</th>\n",
       "      <th>Cloudiness</th>\n",
       "      <th>Wind_Speed</th>\n",
       "      <th>Country</th>\n",
       "      <th>Date</th>\n",
       "    </tr>\n",
       "  </thead>\n",
       "  <tbody>\n",
       "    <tr>\n",
       "      <th>0</th>\n",
       "      <td>Henties Bay</td>\n",
       "      <td>-22.12</td>\n",
       "      <td>14.28</td>\n",
       "      <td>55.83</td>\n",
       "      <td>76</td>\n",
       "      <td>43</td>\n",
       "      <td>3.98</td>\n",
       "      <td>NA</td>\n",
       "      <td>1593394586</td>\n",
       "    </tr>\n",
       "    <tr>\n",
       "      <th>1</th>\n",
       "      <td>Bethel</td>\n",
       "      <td>41.37</td>\n",
       "      <td>-73.41</td>\n",
       "      <td>70.00</td>\n",
       "      <td>94</td>\n",
       "      <td>20</td>\n",
       "      <td>0.72</td>\n",
       "      <td>US</td>\n",
       "      <td>1593394586</td>\n",
       "    </tr>\n",
       "    <tr>\n",
       "      <th>2</th>\n",
       "      <td>Saint-François</td>\n",
       "      <td>46.42</td>\n",
       "      <td>3.91</td>\n",
       "      <td>60.80</td>\n",
       "      <td>82</td>\n",
       "      <td>90</td>\n",
       "      <td>2.24</td>\n",
       "      <td>FR</td>\n",
       "      <td>1593394586</td>\n",
       "    </tr>\n",
       "    <tr>\n",
       "      <th>3</th>\n",
       "      <td>Ushuaia</td>\n",
       "      <td>-54.80</td>\n",
       "      <td>-68.30</td>\n",
       "      <td>35.60</td>\n",
       "      <td>69</td>\n",
       "      <td>40</td>\n",
       "      <td>10.29</td>\n",
       "      <td>AR</td>\n",
       "      <td>1593394436</td>\n",
       "    </tr>\n",
       "    <tr>\n",
       "      <th>4</th>\n",
       "      <td>Mar del Plata</td>\n",
       "      <td>-38.00</td>\n",
       "      <td>-57.56</td>\n",
       "      <td>48.00</td>\n",
       "      <td>93</td>\n",
       "      <td>96</td>\n",
       "      <td>5.53</td>\n",
       "      <td>AR</td>\n",
       "      <td>1593394343</td>\n",
       "    </tr>\n",
       "  </tbody>\n",
       "</table>\n",
       "</div>"
      ],
      "text/plain": [
       "             City  Latitude  Longitude  Max_Temp  Humidity  Cloudiness  \\\n",
       "0     Henties Bay    -22.12      14.28     55.83        76          43   \n",
       "1          Bethel     41.37     -73.41     70.00        94          20   \n",
       "2  Saint-François     46.42       3.91     60.80        82          90   \n",
       "3         Ushuaia    -54.80     -68.30     35.60        69          40   \n",
       "4   Mar del Plata    -38.00     -57.56     48.00        93          96   \n",
       "\n",
       "   Wind_Speed Country        Date  \n",
       "0        3.98      NA  1593394586  \n",
       "1        0.72      US  1593394586  \n",
       "2        2.24      FR  1593394586  \n",
       "3       10.29      AR  1593394436  \n",
       "4        5.53      AR  1593394343  "
      ]
     },
     "execution_count": 10,
     "metadata": {},
     "output_type": "execute_result"
    }
   ],
   "source": [
    "# Make a new DataFrame equal to the city data to drop all humidity outliers by index.\n",
    "# Passing \"inplace=False\" will make a copy of the city_data DataFrame, which we call \"clean_city_data\".\n",
    "clean_city_data = city_data\n",
    "clean_city_data.head()"
   ]
  },
  {
   "cell_type": "code",
   "execution_count": 11,
   "metadata": {},
   "outputs": [],
   "source": [
    "# Extract relevant fields from the data frame\n",
    "clean_city_data= clean_city_data[[\"City\",\"Cloudiness\",\"Country\", \"Date\",\"Humidity\", \"Latitude\",\"Longitude\",\"Max_Temp\", \"Wind_Speed\"]]\n",
    "clean_city_data.index.name = 'City_ID'\n",
    "# Export the City_Data into a csv\n",
    "\n",
    "clean_city_data.to_csv(output_data_file,index = True, header = True)"
   ]
  },
  {
   "cell_type": "markdown",
   "metadata": {},
   "source": [
    "## Plotting the Data\n",
    "* Use proper labeling of the plots using plot titles (including date of analysis) and axes labels.\n",
    "* Save the plotted figures as .pngs."
   ]
  },
  {
   "cell_type": "markdown",
   "metadata": {},
   "source": [
    "## Latitude vs. Temperature Plot"
   ]
  },
  {
   "cell_type": "code",
   "execution_count": 12,
   "metadata": {
    "scrolled": true
   },
   "outputs": [
    {
     "data": {
      "text/plain": [
       "Text(0.5, 1.0, 'City Latitude vs Max Temperature (6/28/20)')"
      ]
     },
     "execution_count": 12,
     "metadata": {},
     "output_type": "execute_result"
    },
    {
     "data": {
      "image/png": "[encoded data removed]",
      "text/plain": [
       "<Figure size 432x288 with 1 Axes>"
      ]
     },
     "metadata": {
      "needs_background": "light"
     },
     "output_type": "display_data"
    }
   ],
   "source": [
    "x_lat = clean_city_data[\"Latitude\"]\n",
    "y_lat_temp = clean_city_data[\"Max_Temp\"]\n",
    "plt.scatter(x_lat,y_lat_temp,edgecolors = 'black')\n",
    "plt.grid()\n",
    "plt.xlabel(\"Latitude\")\n",
    "plt.ylabel(\"Max Temp (F)\")\n",
    "plt.title(\"City Latitude vs Max Temperature (6/28/20)\")"
   ]
  },
  {
   "cell_type": "markdown",
   "metadata": {},
   "source": [
    "## Latitude vs. Humidity Plot"
   ]
  },
  {
   "cell_type": "code",
   "execution_count": 13,
   "metadata": {},
   "outputs": [
    {
     "data": {
      "text/plain": [
       "Text(0.5, 1.0, 'City Latitude vs Humidity (6/28/20)')"
      ]
     },
     "execution_count": 13,
     "metadata": {},
     "output_type": "execute_result"
    },
    {
     "data": {
      "image/png": "[encoded data removed]",
      "text/plain": [
       "<Figure size 432x288 with 1 Axes>"
      ]
     },
     "metadata": {
      "needs_background": "light"
     },
     "output_type": "display_data"
    }
   ],
   "source": [
    "y_lat_hum = clean_city_data[\"Humidity\"]\n",
    "plt.scatter(x_lat,y_lat_hum,edgecolors = 'black')\n",
    "plt.grid()\n",
    "plt.xlabel(\"Latitude\")\n",
    "plt.ylabel(\"Humidity (%)\")\n",
    "plt.title(\"City Latitude vs Humidity (6/28/20)\")"
   ]
  },
  {
   "cell_type": "markdown",
   "metadata": {},
   "source": [
    "## Latitude vs. Cloudiness Plot"
   ]
  },
  {
   "cell_type": "code",
   "execution_count": 14,
   "metadata": {},
   "outputs": [
    {
     "data": {
      "text/plain": [
       "Text(0.5, 1.0, 'City Latitude vs Cloudiness (6/28/20)')"
      ]
     },
     "execution_count": 14,
     "metadata": {},
     "output_type": "execute_result"
    },
    {
     "data": {
      "image/png": "[encoded data removed]",
      "text/plain": [
       "<Figure size 432x288 with 1 Axes>"
      ]
     },
     "metadata": {
      "needs_background": "light"
     },
     "output_type": "display_data"
    }
   ],
   "source": [
    "y_lat_cloud = clean_city_data[\"Cloudiness\"]\n",
    "plt.scatter(x_lat,y_lat_cloud,edgecolors = 'black')\n",
    "plt.grid()\n",
    "plt.xlabel(\"Latitude\")\n",
    "plt.ylabel(\"Cloudiness (%)\")\n",
    "plt.title(\"City Latitude vs Cloudiness (6/28/20)\")"
   ]
  },
  {
   "cell_type": "markdown",
   "metadata": {},
   "source": [
    "## Latitude vs. Wind Speed Plot"
   ]
  },
  {
   "cell_type": "code",
   "execution_count": 15,
   "metadata": {},
   "outputs": [
    {
     "data": {
      "text/plain": [
       "Text(0.5, 1.0, 'City Latitude vs Wind Speed (6/28/20)')"
      ]
     },
     "execution_count": 15,
     "metadata": {},
     "output_type": "execute_result"
    },
    {
     "data": {
      "image/png": "[encoded data removed]",
      "text/plain": [
       "<Figure size 432x288 with 1 Axes>"
      ]
     },
     "metadata": {
      "needs_background": "light"
     },
     "output_type": "display_data"
    }
   ],
   "source": [
    "y_lat_wind = clean_city_data[\"Wind_Speed\"]\n",
    "plt.scatter(x_lat,y_lat_wind,edgecolors = 'black')\n",
    "plt.grid()\n",
    "plt.xlabel(\"Latitude\")\n",
    "plt.ylabel(\"Wind Speed (mph)\")\n",
    "plt.title(\"City Latitude vs Wind Speed (6/28/20)\")"
   ]
  },
  {
   "cell_type": "markdown",
   "metadata": {},
   "source": [
    "## Linear Regression"
   ]
  },
  {
   "cell_type": "code",
   "execution_count": 71,
   "metadata": {},
   "outputs": [],
   "source": [
    "# OPTIONAL: Create a function to create Linear Regression plots\n",
    "def linregress_func(x,y):\n",
    "    r = sts.pearsonr(x,y)\n",
    "    slope, intercept, rvalue, pvalue, stderr= linregress(x,y) \n",
    "   \n",
    "    #set equation needed to get regression values using y = mx +b\n",
    "    regress_values = x*slope + intercept\n",
    "\n",
    "    #get equation of a line for printing on graph\n",
    "    line_eq = \"y = \" + str(round(slope,2)) + \"x + \" + str(round(intercept,2))\n",
    "\n",
    "    #plot scatter chart\n",
    "    plt.scatter(x,y)\n",
    "    #plot regression values on the same chart\n",
    "    plt.plot(x,regress_values, \"-r\")\n",
    "    #add equation of line describing data set\n",
    "    plt.annotate(line_eq, (25,30), fontsize = 15, color = 'red')\n",
    "    print(f\"The r-squared is {(r[0])**2}.\")\n",
    "    print(line_eq)\n",
    "    "
   ]
  },
  {
   "cell_type": "code",
   "execution_count": 17,
   "metadata": {},
   "outputs": [
    {
     "data": {
      "text/html": [
       "<div>\n",
       "<style scoped>\n",
       "    .dataframe tbody tr th:only-of-type {\n",
       "        vertical-align: middle;\n",
       "    }\n",
       "\n",
       "    .dataframe tbody tr th {\n",
       "        vertical-align: top;\n",
       "    }\n",
       "\n",
       "    .dataframe thead th {\n",
       "        text-align: right;\n",
       "    }\n",
       "</style>\n",
       "<table border=\"1\" class=\"dataframe\">\n",
       "  <thead>\n",
       "    <tr style=\"text-align: right;\">\n",
       "      <th></th>\n",
       "      <th>City</th>\n",
       "      <th>Cloudiness</th>\n",
       "      <th>Country</th>\n",
       "      <th>Date</th>\n",
       "      <th>Humidity</th>\n",
       "      <th>Latitude</th>\n",
       "      <th>Longitude</th>\n",
       "      <th>Max_Temp</th>\n",
       "      <th>Wind_Speed</th>\n",
       "    </tr>\n",
       "    <tr>\n",
       "      <th>City_ID</th>\n",
       "      <th></th>\n",
       "      <th></th>\n",
       "      <th></th>\n",
       "      <th></th>\n",
       "      <th></th>\n",
       "      <th></th>\n",
       "      <th></th>\n",
       "      <th></th>\n",
       "      <th></th>\n",
       "    </tr>\n",
       "  </thead>\n",
       "  <tbody>\n",
       "    <tr>\n",
       "      <th>0</th>\n",
       "      <td>Henties Bay</td>\n",
       "      <td>43</td>\n",
       "      <td>NA</td>\n",
       "      <td>1593394586</td>\n",
       "      <td>76</td>\n",
       "      <td>-22.12</td>\n",
       "      <td>14.28</td>\n",
       "      <td>55.83</td>\n",
       "      <td>3.98</td>\n",
       "    </tr>\n",
       "    <tr>\n",
       "      <th>3</th>\n",
       "      <td>Ushuaia</td>\n",
       "      <td>40</td>\n",
       "      <td>AR</td>\n",
       "      <td>1593394436</td>\n",
       "      <td>69</td>\n",
       "      <td>-54.80</td>\n",
       "      <td>-68.30</td>\n",
       "      <td>35.60</td>\n",
       "      <td>10.29</td>\n",
       "    </tr>\n",
       "    <tr>\n",
       "      <th>4</th>\n",
       "      <td>Mar del Plata</td>\n",
       "      <td>96</td>\n",
       "      <td>AR</td>\n",
       "      <td>1593394343</td>\n",
       "      <td>93</td>\n",
       "      <td>-38.00</td>\n",
       "      <td>-57.56</td>\n",
       "      <td>48.00</td>\n",
       "      <td>5.53</td>\n",
       "    </tr>\n",
       "    <tr>\n",
       "      <th>5</th>\n",
       "      <td>Kruisfontein</td>\n",
       "      <td>0</td>\n",
       "      <td>ZA</td>\n",
       "      <td>1593394587</td>\n",
       "      <td>80</td>\n",
       "      <td>-34.00</td>\n",
       "      <td>24.73</td>\n",
       "      <td>49.28</td>\n",
       "      <td>10.74</td>\n",
       "    </tr>\n",
       "    <tr>\n",
       "      <th>11</th>\n",
       "      <td>Vaini</td>\n",
       "      <td>75</td>\n",
       "      <td>TO</td>\n",
       "      <td>1593394589</td>\n",
       "      <td>88</td>\n",
       "      <td>-21.20</td>\n",
       "      <td>-175.20</td>\n",
       "      <td>78.80</td>\n",
       "      <td>9.17</td>\n",
       "    </tr>\n",
       "    <tr>\n",
       "      <th>...</th>\n",
       "      <td>...</td>\n",
       "      <td>...</td>\n",
       "      <td>...</td>\n",
       "      <td>...</td>\n",
       "      <td>...</td>\n",
       "      <td>...</td>\n",
       "      <td>...</td>\n",
       "      <td>...</td>\n",
       "      <td>...</td>\n",
       "    </tr>\n",
       "    <tr>\n",
       "      <th>534</th>\n",
       "      <td>Imbituba</td>\n",
       "      <td>75</td>\n",
       "      <td>BR</td>\n",
       "      <td>1593394459</td>\n",
       "      <td>72</td>\n",
       "      <td>-28.24</td>\n",
       "      <td>-48.67</td>\n",
       "      <td>60.80</td>\n",
       "      <td>5.82</td>\n",
       "    </tr>\n",
       "    <tr>\n",
       "      <th>537</th>\n",
       "      <td>Sola</td>\n",
       "      <td>75</td>\n",
       "      <td>VU</td>\n",
       "      <td>1593394695</td>\n",
       "      <td>83</td>\n",
       "      <td>-13.88</td>\n",
       "      <td>167.55</td>\n",
       "      <td>80.60</td>\n",
       "      <td>4.70</td>\n",
       "    </tr>\n",
       "    <tr>\n",
       "      <th>539</th>\n",
       "      <td>Vredendal</td>\n",
       "      <td>0</td>\n",
       "      <td>ZA</td>\n",
       "      <td>1593394695</td>\n",
       "      <td>85</td>\n",
       "      <td>-31.67</td>\n",
       "      <td>18.50</td>\n",
       "      <td>48.94</td>\n",
       "      <td>3.04</td>\n",
       "    </tr>\n",
       "    <tr>\n",
       "      <th>541</th>\n",
       "      <td>Eirunepé</td>\n",
       "      <td>97</td>\n",
       "      <td>BR</td>\n",
       "      <td>1593394696</td>\n",
       "      <td>79</td>\n",
       "      <td>-6.66</td>\n",
       "      <td>-69.87</td>\n",
       "      <td>76.42</td>\n",
       "      <td>2.01</td>\n",
       "    </tr>\n",
       "    <tr>\n",
       "      <th>542</th>\n",
       "      <td>Tocopilla</td>\n",
       "      <td>2</td>\n",
       "      <td>CL</td>\n",
       "      <td>1593394696</td>\n",
       "      <td>65</td>\n",
       "      <td>-22.09</td>\n",
       "      <td>-70.20</td>\n",
       "      <td>59.99</td>\n",
       "      <td>5.61</td>\n",
       "    </tr>\n",
       "  </tbody>\n",
       "</table>\n",
       "<p>170 rows × 9 columns</p>\n",
       "</div>"
      ],
      "text/plain": [
       "                  City  Cloudiness Country        Date  Humidity  Latitude  \\\n",
       "City_ID                                                                      \n",
       "0          Henties Bay          43      NA  1593394586        76    -22.12   \n",
       "3              Ushuaia          40      AR  1593394436        69    -54.80   \n",
       "4        Mar del Plata          96      AR  1593394343        93    -38.00   \n",
       "5         Kruisfontein           0      ZA  1593394587        80    -34.00   \n",
       "11               Vaini          75      TO  1593394589        88    -21.20   \n",
       "...                ...         ...     ...         ...       ...       ...   \n",
       "534           Imbituba          75      BR  1593394459        72    -28.24   \n",
       "537               Sola          75      VU  1593394695        83    -13.88   \n",
       "539          Vredendal           0      ZA  1593394695        85    -31.67   \n",
       "541           Eirunepé          97      BR  1593394696        79     -6.66   \n",
       "542          Tocopilla           2      CL  1593394696        65    -22.09   \n",
       "\n",
       "         Longitude  Max_Temp  Wind_Speed  \n",
       "City_ID                                   \n",
       "0            14.28     55.83        3.98  \n",
       "3           -68.30     35.60       10.29  \n",
       "4           -57.56     48.00        5.53  \n",
       "5            24.73     49.28       10.74  \n",
       "11         -175.20     78.80        9.17  \n",
       "...            ...       ...         ...  \n",
       "534         -48.67     60.80        5.82  \n",
       "537         167.55     80.60        4.70  \n",
       "539          18.50     48.94        3.04  \n",
       "541         -69.87     76.42        2.01  \n",
       "542         -70.20     59.99        5.61  \n",
       "\n",
       "[170 rows x 9 columns]"
      ]
     },
     "execution_count": 17,
     "metadata": {},
     "output_type": "execute_result"
    }
   ],
   "source": [
    "# Create Northern and Southern Hemisphere DataFrames\n",
    "northern_hem = clean_city_data.loc[clean_city_data.Latitude >0,:]\n",
    "southern_hem = clean_city_data.loc[clean_city_data.Latitude <0,:]\n",
    "southern_hem"
   ]
  },
  {
   "cell_type": "markdown",
   "metadata": {},
   "source": [
    "####  Northern Hemisphere - Max Temp vs. Latitude Linear Regression"
   ]
  },
  {
   "cell_type": "code",
   "execution_count": 72,
   "metadata": {},
   "outputs": [
    {
     "name": "stdout",
     "output_type": "stream",
     "text": [
      "The r-squared is 0.42953847875221396.\n",
      "y = -0.45x + 87.34\n"
     ]
    },
    {
     "data": {
      "text/plain": [
       "Text(0.5, 1.0, 'Northern Hemisphere - Max Temp vs Latitude')"
      ]
     },
     "execution_count": 72,
     "metadata": {},
     "output_type": "execute_result"
    },
    {
     "data": {
      "image/png": "[encoded data removed]",
      "text/plain": [
       "<Figure size 432x288 with 1 Axes>"
      ]
     },
     "metadata": {
      "needs_background": "light"
     },
     "output_type": "display_data"
    }
   ],
   "source": [
    "x_nh_lat = northern_hem[\"Latitude\"]\n",
    "y_nh_temp = northern_hem[\"Max_Temp\"]\n",
    "linregress_func(x_nh_lat,y_nh_temp)\n",
    "plt.xlabel(\"Latitude\")\n",
    "plt.ylabel(\"Max Temperature (F)\")\n",
    "plt.title(\"Northern Hemisphere - Max Temp vs Latitude\")\n"
   ]
  },
  {
   "cell_type": "markdown",
   "metadata": {},
   "source": [
    "####  Southern Hemisphere - Max Temp vs. Latitude Linear Regression"
   ]
  },
  {
   "cell_type": "code",
   "execution_count": 73,
   "metadata": {},
   "outputs": [
    {
     "name": "stdout",
     "output_type": "stream",
     "text": [
      "The r-squared is 0.6454288433991373.\n",
      "y = 0.77x + 79.56\n"
     ]
    },
    {
     "data": {
      "text/plain": [
       "Text(0.5, 1.0, 'Northern Hemisphere - Max Temp vs Latitude')"
      ]
     },
     "execution_count": 73,
     "metadata": {},
     "output_type": "execute_result"
    },
    {
     "data": {
      "image/png": "[encoded data removed]",
      "text/plain": [
       "<Figure size 432x288 with 1 Axes>"
      ]
     },
     "metadata": {
      "needs_background": "light"
     },
     "output_type": "display_data"
    }
   ],
   "source": [
    "x_sh_lat = southern_hem['Latitude']\n",
    "y_sh_temp = southern_hem['Max_Temp']\n",
    "linregress_func(x_sh_lat,y_sh_temp)\n",
    "plt.xlabel(\"Latitude\")\n",
    "plt.ylabel(\"Max Temperature (F)\")\n",
    "plt.title(\"Northern Hemisphere - Max Temp vs Latitude\")\n"
   ]
  },
  {
   "cell_type": "markdown",
   "metadata": {},
   "source": [
    "####  Northern Hemisphere - Humidity (%) vs. Latitude Linear Regression"
   ]
  },
  {
   "cell_type": "code",
   "execution_count": 74,
   "metadata": {},
   "outputs": [
    {
     "name": "stdout",
     "output_type": "stream",
     "text": [
      "The r-squared is 0.008249133516439975.\n",
      "y = -0.1x + 73.59\n"
     ]
    },
    {
     "data": {
      "text/plain": [
       "Text(0.5, 1.0, 'Northern Hemisphere - Humidity vs Latitude')"
      ]
     },
     "execution_count": 74,
     "metadata": {},
     "output_type": "execute_result"
    },
    {
     "data": {
      "image/png": "[encoded data removed]",
      "text/plain": [
       "<Figure size 432x288 with 1 Axes>"
      ]
     },
     "metadata": {
      "needs_background": "light"
     },
     "output_type": "display_data"
    }
   ],
   "source": [
    "x_nh_lat = northern_hem['Latitude']\n",
    "y_nh_humidity = northern_hem['Humidity']\n",
    "linregress_func(x_nh_lat,y_nh_humidity)\n",
    "plt.xlabel(\"Latitude\")\n",
    "plt.ylabel(\"Humidity (%)\")\n",
    "plt.title(\"Northern Hemisphere - Humidity vs Latitude\")\n"
   ]
  },
  {
   "cell_type": "markdown",
   "metadata": {},
   "source": [
    "####  Southern Hemisphere - Humidity (%) vs. Latitude Linear Regression"
   ]
  },
  {
   "cell_type": "code",
   "execution_count": 75,
   "metadata": {},
   "outputs": [
    {
     "name": "stdout",
     "output_type": "stream",
     "text": [
      "The r-squared is 0.00011812141347476573.\n",
      "y = 0.01x + 77.21\n"
     ]
    },
    {
     "data": {
      "text/plain": [
       "Text(0.5, 1.0, 'Southern Hemisphere - Humidity vs Latitude')"
      ]
     },
     "execution_count": 75,
     "metadata": {},
     "output_type": "execute_result"
    },
    {
     "data": {
      "image/png": "[encoded data removed]",
      "text/plain": [
       "<Figure size 432x288 with 1 Axes>"
      ]
     },
     "metadata": {
      "needs_background": "light"
     },
     "output_type": "display_data"
    }
   ],
   "source": [
    "x_val_sh_lat = southern_hem[\"Latitude\"]\n",
    "y_val_sh_humidity = southern_hem[\"Humidity\"]\n",
    "linregress_func(x_val_sh_lat,y_val_sh_humidity)\n",
    "plt.xlabel(\"Latitude\")\n",
    "plt.ylabel(\"Humidity (%)\")\n",
    "plt.title(\"Southern Hemisphere - Humidity vs Latitude\")"
   ]
  },
  {
   "cell_type": "markdown",
   "metadata": {},
   "source": [
    "####  Northern Hemisphere - Cloudiness (%) vs. Latitude Linear Regression"
   ]
  },
  {
   "cell_type": "code",
   "execution_count": 79,
   "metadata": {},
   "outputs": [
    {
     "name": "stdout",
     "output_type": "stream",
     "text": [
      "The r-squared is 0.00016951938799118662.\n",
      "y = -0.03x + 55.35\n"
     ]
    },
    {
     "data": {
      "text/plain": [
       "Text(0.5, 1.0, 'Northern Hemisphere - Cloudiness vs Latitude')"
      ]
     },
     "execution_count": 79,
     "metadata": {},
     "output_type": "execute_result"
    },
    {
     "data": {
      "image/png": "[encoded data removed]",
      "text/plain": [
       "<Figure size 432x288 with 1 Axes>"
      ]
     },
     "metadata": {
      "needs_background": "light"
     },
     "output_type": "display_data"
    }
   ],
   "source": [
    "x_val_nh_lat = northern_hem[\"Latitude\"]\n",
    "y_val_nh_cloud = northern_hem[\"Cloudiness\"]\n",
    "linregress_func(x_val_nh_lat,y_val_nh_cloud)\n",
    "plt.xlabel(\"Latitude\")\n",
    "plt.ylabel(\"Cloudiness (%)\")\n",
    "plt.title(\"Northern Hemisphere - Cloudiness vs Latitude\")"
   ]
  },
  {
   "cell_type": "markdown",
   "metadata": {},
   "source": [
    "####  Southern Hemisphere - Cloudiness (%) vs. Latitude Linear Regression"
   ]
  },
  {
   "cell_type": "code",
   "execution_count": 78,
   "metadata": {},
   "outputs": [
    {
     "name": "stdout",
     "output_type": "stream",
     "text": [
      "The r-squared is 0.007446906788353325.\n",
      "y = -0.24x + 36.9\n"
     ]
    },
    {
     "data": {
      "text/plain": [
       "Text(0.5, 1.0, 'Southern Hemisphere - Cloudiness vs Latitude')"
      ]
     },
     "execution_count": 78,
     "metadata": {},
     "output_type": "execute_result"
    },
    {
     "data": {
      "image/png": "[encoded data removed]",
      "text/plain": [
       "<Figure size 432x288 with 1 Axes>"
      ]
     },
     "metadata": {
      "needs_background": "light"
     },
     "output_type": "display_data"
    }
   ],
   "source": [
    "x_val_sh_lat = southern_hem[\"Latitude\"]\n",
    "y_val_sh_cloud = southern_hem[\"Cloudiness\"]\n",
    "linregress_func(x_val_sh_lat,y_val_sh_cloud)\n",
    "plt.xlabel(\"Latitude\")\n",
    "plt.ylabel(\"Cloudiness (%)\")\n",
    "plt.title(\"Southern Hemisphere - Cloudiness vs Latitude\")"
   ]
  },
  {
   "cell_type": "markdown",
   "metadata": {},
   "source": [
    "####  Northern Hemisphere - Wind Speed (mph) vs. Latitude Linear Regression"
   ]
  },
  {
   "cell_type": "code",
   "execution_count": 77,
   "metadata": {},
   "outputs": [
    {
     "name": "stdout",
     "output_type": "stream",
     "text": [
      "The r-squared is 0.016951772522563698.\n",
      "y = 0.04x + 7.03\n"
     ]
    },
    {
     "data": {
      "text/plain": [
       "Text(0.5, 1.0, 'Northern Hemisphere - Wind Speed vs Latitude')"
      ]
     },
     "execution_count": 77,
     "metadata": {},
     "output_type": "execute_result"
    },
    {
     "data": {
      "image/png": "[encoded data removed]",
      "text/plain": [
       "<Figure size 432x288 with 1 Axes>"
      ]
     },
     "metadata": {
      "needs_background": "light"
     },
     "output_type": "display_data"
    }
   ],
   "source": [
    "x_val_nh_lat = northern_hem[\"Latitude\"]\n",
    "y_val_nh_wind = northern_hem[\"Wind_Speed\"]\n",
    "linregress_func(x_val_nh_lat,y_val_nh_wind)\n",
    "plt.xlabel(\"Latitude\")\n",
    "plt.ylabel(\"Wind Speed (mph)\")\n",
    "plt.title(\"Northern Hemisphere - Wind Speed vs Latitude\")"
   ]
  },
  {
   "cell_type": "markdown",
   "metadata": {},
   "source": [
    "####  Southern Hemisphere - Wind Speed (mph) vs. Latitude Linear Regression"
   ]
  },
  {
   "cell_type": "code",
   "execution_count": 76,
   "metadata": {},
   "outputs": [
    {
     "name": "stdout",
     "output_type": "stream",
     "text": [
      "The r-squared is 0.04382997633092757.\n",
      "y = -0.07x + 5.98\n"
     ]
    },
    {
     "data": {
      "text/plain": [
       "Text(0.5, 1.0, 'Southern Hemisphere - Wind Speed vs Latitude')"
      ]
     },
     "execution_count": 76,
     "metadata": {},
     "output_type": "execute_result"
    },
    {
     "data": {
      "image/png": "[encoded data removed]",
      "text/plain": [
       "<Figure size 432x288 with 1 Axes>"
      ]
     },
     "metadata": {
      "needs_background": "light"
     },
     "output_type": "display_data"
    }
   ],
   "source": [
    "x_val_sh_lat = southern_hem[\"Latitude\"]\n",
    "y_val_sh_wind = southern_hem[\"Wind_Speed\"]\n",
    "linregress_func(x_val_sh_lat,y_val_sh_wind)\n",
    "plt.xlabel(\"Latitude\")\n",
    "plt.ylabel(\"Wind Speed (mph)\")\n",
    "plt.title(\"Southern Hemisphere - Wind Speed vs Latitude\")"
   ]
  },
  {
   "cell_type": "code",
   "execution_count": null,
   "metadata": {},
   "outputs": [],
   "source": []
  }
 ],
 "metadata": {
  "anaconda-cloud": {},
  "kernel_info": {
   "name": "python3"
  },
  "kernelspec": {
   "display_name": "Python [conda env:PythonData] *",
   "language": "python",
   "name": "conda-env-PythonData-py"
  },
  "language_info": {
   "codemirror_mode": {
    "name": "ipython",
    "version": 3
   },
   "file_extension": ".py",
   "mimetype": "text/x-python",
   "name": "python",
   "nbconvert_exporter": "python",
   "pygments_lexer": "ipython3",
   "version": "3.6.10"
  },
  "latex_envs": {
   "LaTeX_envs_menu_present": true,
   "autoclose": false,
   "autocomplete": true,
   "bibliofile": "biblio.bib",
   "cite_by": "apalike",
   "current_citInitial": 1,
   "eqLabelWithNumbers": true,
   "eqNumInitial": 1,
   "hotkeys": {
    "equation": "Ctrl-E",
    "itemize": "Ctrl-I"
   },
   "labels_anchors": false,
   "latex_user_defs": false,
   "report_style_numbering": false,
   "user_envs_cfg": false
  },
  "nteract": {
   "version": "0.12.3"
  }
 },
 "nbformat": 4,
 "nbformat_minor": 2
}
